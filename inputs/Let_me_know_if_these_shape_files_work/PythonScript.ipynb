{
 "cells": [
  {
   "cell_type": "code",
   "execution_count": 1,
   "id": "7380f710",
   "metadata": {},
   "outputs": [],
   "source": [
    "# to read and visualize spatial data\n",
    "import geopandas as gpd\n",
    "\n",
    "# to give more power to your figures (plots)\n",
    "import matplotlib.pyplot as plt\n",
    "\n",
    "import pandas as pd"
   ]
  },
  {
   "cell_type": "code",
   "execution_count": 2,
   "id": "14a69560",
   "metadata": {},
   "outputs": [],
   "source": [
    "gdf = gpd.read_file('C:/Users/The Data Center/PythonProject/basemaps/tl_2020_22_tract.shp')"
   ]
  },
  {
   "cell_type": "code",
   "execution_count": 4,
   "id": "b20ed099",
   "metadata": {},
   "outputs": [],
   "source": [
    "# Read in crosswalk file to nhood data \n",
    "# dtype to specify that tract is object data type for future merge\n",
    "nhood = pd.read_csv('C:/Users/The Data Center/PythonProject/inputs/NOLAcrosswalk2020.csv', dtype={'tract':object})"
   ]
  },
  {
   "cell_type": "code",
   "execution_count": 5,
   "id": "77a7c9ef",
   "metadata": {},
   "outputs": [],
   "source": [
    "# Create COUNTYFP column in nhood data with 071 value to indicate only in New Orleans\n",
    "nhood['COUNTYFP']=\"071\""
   ]
  },
  {
   "cell_type": "code",
   "execution_count": 6,
   "id": "a04afa54",
   "metadata": {},
   "outputs": [],
   "source": [
    "#Change the name of column headings for merge and non-duplication of fields\n",
    "nhood.columns = ['TRACTCE',\n",
    " 'Neighborhood', 'COUNTYFP']"
   ]
  },
  {
   "cell_type": "code",
   "execution_count": 8,
   "id": "c0259d9a",
   "metadata": {},
   "outputs": [],
   "source": [
    "# Merge Orleans Geodata with nhood data on TRACTCE and COUNTYFP only merge in for New Orleans\n",
    "# Outer keeps all parishes with NAN in neighborhood field\n",
    "gdf_LA_tracts = gdf.merge(nhood, on= ['TRACTCE', 'COUNTYFP'],how='outer')"
   ]
  },
  {
   "cell_type": "code",
   "execution_count": 10,
   "id": "99712019",
   "metadata": {},
   "outputs": [],
   "source": [
    "Neighborhood2020=gdf_LA_tracts.dissolve(by='Neighborhood',aggfunc=sum)"
   ]
  },
  {
   "cell_type": "code",
   "execution_count": 12,
   "id": "01a89a5f",
   "metadata": {},
   "outputs": [],
   "source": [
    "Neighborhood2020.to_file(\"NewOrleansNH2020.shp\")"
   ]
  },
  {
   "cell_type": "code",
   "execution_count": null,
   "id": "cf6859b2",
   "metadata": {},
   "outputs": [],
   "source": []
  },
  {
   "cell_type": "code",
   "execution_count": null,
   "id": "4cd05264",
   "metadata": {},
   "outputs": [],
   "source": []
  },
  {
   "cell_type": "code",
   "execution_count": null,
   "id": "aa5304fd",
   "metadata": {},
   "outputs": [],
   "source": []
  }
 ],
 "metadata": {
  "kernelspec": {
   "display_name": "Python 3",
   "language": "python",
   "name": "python3"
  },
  "language_info": {
   "codemirror_mode": {
    "name": "ipython",
    "version": 3
   },
   "file_extension": ".py",
   "mimetype": "text/x-python",
   "name": "python",
   "nbconvert_exporter": "python",
   "pygments_lexer": "ipython3",
   "version": "3.7.11"
  }
 },
 "nbformat": 4,
 "nbformat_minor": 5
}
